{
 "cells": [
  {
   "cell_type": "code",
   "execution_count": 85,
   "metadata": {},
   "outputs": [],
   "source": [
    "import time\n",
    "\n",
    "from selenium import webdriver"
   ]
  },
  {
   "cell_type": "code",
   "execution_count": 86,
   "metadata": {},
   "outputs": [],
   "source": [
    "driver = webdriver.Chrome()"
   ]
  },
  {
   "cell_type": "code",
   "execution_count": 87,
   "metadata": {},
   "outputs": [],
   "source": [
    "# 크롬 브라우져 열고 instagram 페이지로 이동\n",
    "\n",
    "driver.get(\"https://www.instagram.com/\")\n",
    "time.sleep(2)"
   ]
  },
  {
   "cell_type": "code",
   "execution_count": 88,
   "metadata": {},
   "outputs": [],
   "source": [
    "# 로그인 페이지로 이동\n",
    "\n",
    "driver.find_element_by_class_name('izU2O').find_element_by_tag_name('a').click()\n",
    "time.sleep(5)"
   ]
  },
  {
   "cell_type": "code",
   "execution_count": 89,
   "metadata": {},
   "outputs": [],
   "source": [
    "# 로그인 정보 입력\n",
    "# 자동입력 방지문자 뜨면 직접 id, password치고 로그인..\n",
    "\n",
    "driver.find_element_by_name('username').send_keys('youngjo89@gmail.com')\n",
    "driver.find_element_by_name('password').send_keys('dudwh12!')\n",
    "time.sleep(2)\n",
    "driver.find_element_by_class_name('HmktE').submit()\n",
    "time.sleep(2)"
   ]
  },
  {
   "cell_type": "code",
   "execution_count": 90,
   "metadata": {},
   "outputs": [],
   "source": [
    "# 알림 설정 창이 뜰 경우에만 실행\n",
    "\n",
    "driver.find_element_by_class_name('mt3GC').find_elements_by_tag_name('button')[1].click()"
   ]
  },
  {
   "cell_type": "code",
   "execution_count": 91,
   "metadata": {},
   "outputs": [],
   "source": [
    "# 원하는 키워드를 검색창에 입력\n",
    "\n",
    "keyword = '고양이'\n",
    "search_w = driver.find_element_by_css_selector('#react-root > section > nav > div._8MQSO.Cx7Bp > div > div > div.LWmhU._0aCwM > input')\n",
    "search_w.send_keys(keyword)\n",
    "time.sleep(2)"
   ]
  },
  {
   "cell_type": "code",
   "execution_count": 92,
   "metadata": {},
   "outputs": [],
   "source": [
    "# 검색 결과 중 가장 위에 출현한 검색어로 이동\n",
    "\n",
    "result_url = driver.find_element_by_class_name('fuqBx').find_element_by_tag_name('a').get_attribute('href')\n",
    "driver.get(result_url)\n",
    "\n",
    "time.sleep(2)"
   ]
  },
  {
   "cell_type": "code",
   "execution_count": 93,
   "metadata": {},
   "outputs": [],
   "source": [
    "# 스크롤을 내려서 모든 게시물이 보이도록..\n",
    "# 노트북 환경에 따라서 보이는 게시물의 수가 다를 수 있음.. range안에 들어가는 숫자는 적절하게 조절..\n",
    "\n",
    "for i in range(10):\n",
    "    driver.execute_script(\"window.scrollTo(0, document.body.scrollHeight);\")\n",
    "    time.sleep(2)"
   ]
  },
  {
   "cell_type": "code",
   "execution_count": 94,
   "metadata": {},
   "outputs": [
    {
     "name": "stdout",
     "output_type": "stream",
     "text": [
      "게시물 총 갯수 : 51\n"
     ]
    }
   ],
   "source": [
    "# 게시물을 list형태로 저장..\n",
    "\n",
    "posts = driver.find_elements_by_class_name('_9AhH0')\n",
    "print('게시물 총 갯수 :', len(posts))"
   ]
  },
  {
   "cell_type": "code",
   "execution_count": 98,
   "metadata": {},
   "outputs": [
    {
     "name": "stdout",
     "output_type": "stream",
     "text": [
      "9번째 게시글 수집 중\r"
     ]
    }
   ],
   "source": [
    "# 포스트를 클릭하고 게시글 저장하기..(작성자 ID는 제외 글만..)\n",
    "# 글이 없는 경우도 있음..글에 enter가 들어가있는 경우도 있고...\n",
    "\n",
    "f = open(\"instagram_post_\" + keyword.replace(\"#\", \"\") + \".txt\", \"w\", encoding=\"utf-8\")\n",
    "post_num = 0\n",
    "\n",
    "for post in posts : \n",
    "    \n",
    "    post_num += 1\n",
    "    \n",
    "    try : \n",
    "        post.click()\n",
    "        time.sleep(2)\n",
    "\n",
    "        print('{}번째 게시글 수집 중'.format(post_num), end = '\\r')\n",
    "\n",
    "        try :\n",
    "            content = driver.find_element_by_class_name('C4VMK').find_element_by_tag_name('span').text\n",
    "            content.replace('\\n', ' ') # 게시글에 들어간 enter를 space 한칸 으로 변경\n",
    "            f.write(content + '\\n' + '\\n')\n",
    "            time.sleep(1)\n",
    "        \n",
    "        except :\n",
    "            None\n",
    "            \n",
    "        driver.find_element_by_class_name('ckWGn').click()\n",
    "        time.sleep(1)\n",
    "        \n",
    "    except :\n",
    "        continue\n",
    "        \n",
    "f.close()\n",
    "\n",
    "print('done')"
   ]
  },
  {
   "cell_type": "code",
   "execution_count": 84,
   "metadata": {},
   "outputs": [],
   "source": [
    "driver.close()"
   ]
  },
  {
   "cell_type": "code",
   "execution_count": null,
   "metadata": {},
   "outputs": [],
   "source": []
  },
  {
   "cell_type": "code",
   "execution_count": null,
   "metadata": {},
   "outputs": [],
   "source": []
  },
  {
   "cell_type": "code",
   "execution_count": null,
   "metadata": {},
   "outputs": [],
   "source": []
  }
 ],
 "metadata": {
  "kernelspec": {
   "display_name": "Python 3",
   "language": "python",
   "name": "python3"
  },
  "language_info": {
   "codemirror_mode": {
    "name": "ipython",
    "version": 3
   },
   "file_extension": ".py",
   "mimetype": "text/x-python",
   "name": "python",
   "nbconvert_exporter": "python",
   "pygments_lexer": "ipython3",
   "version": "3.6.7"
  }
 },
 "nbformat": 4,
 "nbformat_minor": 2
}
